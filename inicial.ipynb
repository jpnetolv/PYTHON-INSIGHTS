{
 "cells": [
  {
   "cell_type": "code",
   "execution_count": null,
   "metadata": {},
   "outputs": [],
   "source": [
    "# PASSO A PASSO\n",
    "import pandas\n",
    "# PASSO 1 - IMPORTAR BASE DE DADOS\n",
    "tabela = pandas.read_csv(\"cancelamentos.csv\") \n",
    "\n",
    "# ---------------------------------FIM---------------------------------- #\n",
    "\n",
    "# PASSO 2 - VISUALIZAR A BASE DE DADOS\n",
    "tabela = tabela.drop(columns=\"CustomerID\")\n",
    "\n",
    "display(tabela)\n",
    "\n",
    "# ---------------------------------FIM---------------------------------- #"
   ]
  },
  {
   "cell_type": "code",
   "execution_count": null,
   "metadata": {},
   "outputs": [],
   "source": [
    "# PASSO 3 - CORRIGIR OS PROBLEMAS DA BASE DE DADOS\n",
    "# ANÁLISE PARA ENCONTRAR POSSÍVEIS ERROS\n",
    "display(tabela.info())\n",
    "\n",
    "# EXCLUIR LINHAS COM VALORES VAZIOS\n",
    "tabela = tabela.dropna()\n",
    "\n",
    "# COMPARAÇÃO PARA ANÁLISAR SE OS ERROS SUMIRAM\n",
    "display(tabela.info())\n",
    "\n",
    "# ---------------------------------FIM---------------------------------- #"
   ]
  },
  {
   "cell_type": "code",
   "execution_count": null,
   "metadata": {},
   "outputs": [],
   "source": [
    "# PASSO 4 - ANÁLISE INICIAL DOS CANCELAMENTOS \n",
    "\n",
    "# QUANTAS PESSOAS CANCELARAM E QUANTAS NÃO CANCELARAM\n",
    "display(tabela[\"cancelou\"].value_counts())\n",
    "\n",
    "# PERCENTUAL DE CANCELAMENTOS\n",
    "display(tabela[\"cancelou\"].value_counts(normalize=True))\n",
    "\n",
    "# ---------------------------------FIM---------------------------------- #\n"
   ]
  },
  {
   "cell_type": "code",
   "execution_count": null,
   "metadata": {},
   "outputs": [],
   "source": [
    "# PASSO 5 - ANÁLISE FINAL DOS CANCELAMENTOS POR MEIO DE GRÁFICOS (COMO AS COLUNA DA BASE DE DADOS IMPACTAM NO CANCELAMENTO)\n",
    "import plotly.express as px\n",
    "\n",
    "# CRIAR O GRÁFICO\n",
    "for coluna in tabela.columns:\n",
    "    grafico = px.histogram(tabela, x = coluna, color = \"cancelou\")\n",
    "    # EXIBIR O GRÁFICO\n",
    "    grafico.show()"
   ]
  }
 ],
 "metadata": {
  "kernelspec": {
   "display_name": "base",
   "language": "python",
   "name": "python3"
  },
  "language_info": {
   "codemirror_mode": {
    "name": "ipython",
    "version": 3
   },
   "file_extension": ".py",
   "mimetype": "text/x-python",
   "name": "python",
   "nbconvert_exporter": "python",
   "pygments_lexer": "ipython3",
   "version": "3.11.4"
  },
  "orig_nbformat": 4
 },
 "nbformat": 4,
 "nbformat_minor": 2
}
